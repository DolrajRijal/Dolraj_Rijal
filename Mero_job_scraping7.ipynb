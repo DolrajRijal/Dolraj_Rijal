{
  "cells": [
    {
      "cell_type": "markdown",
      "metadata": {
        "id": "view-in-github",
        "colab_type": "text"
      },
      "source": [
        "<a href=\"https://colab.research.google.com/github/DolrajRijal/Python-Projects/blob/main/Mero_job_scraping7.ipynb\" target=\"_parent\"><img src=\"https://colab.research.google.com/assets/colab-badge.svg\" alt=\"Open In Colab\"/></a>"
      ]
    },
    {
      "cell_type": "code",
      "execution_count": null,
      "metadata": {
        "id": "urvlpin8sisY"
      },
      "outputs": [],
      "source": []
    },
    {
      "cell_type": "markdown",
      "metadata": {
        "id": "_5Kb8pbPsnJ3"
      },
      "source": [
        "Importing libraries requests to get response and bs4 for parsing and scraping"
      ]
    },
    {
      "cell_type": "code",
      "execution_count": null,
      "metadata": {
        "id": "vSH9HsDAslRC"
      },
      "outputs": [],
      "source": [
        "import requests\n",
        "from bs4 import BeautifulSoup"
      ]
    },
    {
      "cell_type": "markdown",
      "metadata": {
        "id": "9Ec416lNs7vZ"
      },
      "source": [
        "Use get function of requests"
      ]
    },
    {
      "cell_type": "code",
      "execution_count": null,
      "metadata": {
        "id": "Aqzx4h1rtAlc"
      },
      "outputs": [],
      "source": [
        "r = requests.get(\"https://merojob.com/\")"
      ]
    },
    {
      "cell_type": "markdown",
      "metadata": {
        "id": "d96D2OmntNOg"
      },
      "source": [
        "Now make soup object using beautifulsoup and parsing the website with html parser"
      ]
    },
    {
      "cell_type": "code",
      "execution_count": null,
      "metadata": {
        "id": "oOEWYdmFtaAU"
      },
      "outputs": [],
      "source": [
        "Soup = BeautifulSoup(r.content,\"html.parser\")"
      ]
    },
    {
      "cell_type": "markdown",
      "source": [
        "Now getting name of hiring organization which is inside h2 tag under div tag with class card-board"
      ],
      "metadata": {
        "id": "nNYqrjXm1SHG"
      }
    },
    {
      "cell_type": "code",
      "source": [
        "org = Soup.find(\"div\",class_ = \"card-body p-0\").find_all(\"h2\", class_ = \"h6 mb-1\")\n",
        "job_title = Soup.find(\"div\", class_ = \"card-body p-0\").find_all(\"span\", itemprop = \"title\")"
      ],
      "metadata": {
        "id": "At4T2e-j1fma"
      },
      "execution_count": null,
      "outputs": []
    },
    {
      "cell_type": "markdown",
      "source": [
        "extracting in text form both job title and hiring organization in list"
      ],
      "metadata": {
        "id": "8Sa44Eri2mJ_"
      }
    },
    {
      "cell_type": "code",
      "source": [
        "organization = []\n",
        "Jt = []\n",
        "for o in org:\n",
        "    o = o.text\n",
        "    organization.append(o)\n",
        "for t in job_title:\n",
        "    t = t.text\n",
        "    Jt.append(t)\n",
        "print(organization)\n",
        "print(Jt)"
      ],
      "metadata": {
        "colab": {
          "base_uri": "https://localhost:8080/"
        },
        "id": "a35wJyHE2z8v",
        "outputId": "70c005ea-5ce1-4da2-ea17-14439496069c"
      },
      "execution_count": null,
      "outputs": [
        {
          "output_type": "stream",
          "name": "stdout",
          "text": [
            "['\\nEuro School\\n', '\\nCedar Gate Services\\n', '\\nNepal Liquors\\n', '\\nUpper Solu Hydro Electri…\\n', '\\nDeloitte\\n', '\\nUltimate Business Adviso…\\n', '\\nShailung Group of Compan…\\n', '\\nInnovate Nepal Group\\n', '\\nKeystone Global Network\\n', '\\nCaritas Nepal\\n', '\\nHitachi Energy\\n', '\\nKunal Flooring and Furni…\\n', '\\nKhalti Digital Wallet\\n', '\\nKPO and Company\\n', '\\nTeach For Nepal\\n', '\\nR. B. Diamond Jewellers\\n', '\\nSuroshani Holidays\\n', '\\nBuild Up Nepal\\n', '\\nHulas Steel Industries L…\\n', '\\nHitachi Energy\\n', '\\nTekvortex\\n', '\\nBM Nepal\\n', '\\nApala Jewels\\n', '\\nAayulogic\\n', '\\nVaishno Medisales\\n', '\\nCedar Gate Services\\n', '\\nStudy Info Centre\\n', '\\nAgro Thai Foods\\n', '\\nHulas Steel Industries L…\\n', '\\nUBA Solutions\\n', '\\nOli and Associates Educa…\\n', '\\nSmart Data Solution\\n', '\\nTeach For Nepal\\n', '\\nTeqmint Innovations\\n', '\\nSeto Gurans Women Saving…\\n', '\\nVolunteers Initiative Ne…\\n', '\\nK.System\\n', '\\n Commercial Bank\\n', '\\nPink Salt Pvt. Ltd.\\n', '\\nOli and Associates Educa…\\n', '\\nMount Pumori Nirman Sewa\\n', '\\nKhalti Digital Wallet\\n', '\\nSabKura Consultancy\\n ', '\\nI Globe Foundation\\n', '\\nOceania Education and Vi…\\n', '\\nMagnus Pharma\\n', '\\nNew Business Age\\n', '\\nFelt and Yarn\\n', '\\nUNFPA Nepal\\n', '\\nUBA Solutions\\n', '\\nRV LIFE\\n', '\\nGforce Systems and Techn…\\n', '\\nDaraz\\n', '\\nLogpoint Nepal\\n', '\\nSeeLogic International\\n', '\\nCemat Consultants\\n', '\\nShikhar Technologies\\n', '\\nDaraz\\n', '\\nBI-SOLUTIONS\\n', '\\nTech Central\\n']\n",
            "['\\nIT Technician\\n', '\\nGuitar Teacher\\n', '\\nFood and Dining Supervisor\\n', '\\nBilling Specialist\\n', '\\nSales Officer\\n', '\\nProduct Manager\\n', '\\nGeneral Manager\\n', '\\nObjective 1 Lead (Public …\\n', '\\nObjective 2 Lead (Public …\\n', '\\nAudit Manager\\n', '\\nBusiness Development Mana…\\n', '\\nLecturers\\n\\n', '\\nStudy Abroad Counsellor- …\\n', '\\nGraphic Designer\\n', '\\nAdmin and Finance Officer\\n', '\\nDevOps Engineer\\n', '\\nSoftware Engineer (PHP/ J…\\n', '\\nSoftware Quality Test Eng…\\n', '\\nSoftware Engineer\\xa0(.NET)\\n', '\\nClient Support Specialist\\n', '\\nSales Manager\\n', '\\nJunior Merchant Support\\n', '\\nWeb Content Writer\\n', '\\nTeach For Nepal Fellowship\\n', '\\nDigital Marketing Special…\\n', '\\nTicketing Head ( Inbound/…\\n', '\\nSales and Business Develo…\\n', '\\nHead of Quality Control-C…\\n', '\\nAssociate Site Reliabilit…\\n', '\\nReact/NextJS Developer\\n', '\\nBackend Developer (Python)\\n', '\\nSenior JAVA Software Engi…\\n', '\\nSenior React Software Eng…\\n', '\\nUX/UI Designer\\n', '\\nDigital & Communication S…\\n', '\\nTechnical Support- Intern\\n', '\\nSales Executive\\n', '\\nBusiness Growth Manager\\n', '\\nAssociate Software Engine…\\n', '\\nVideo Editor\\n', '\\nCountry Manager\\n', '\\nMarketing Associate\\n', '\\nSales Officer-Aluminum Di…\\n', '\\nHR Associate\\n', '\\nBusiness Development Mana…\\n', '\\nJava Developer\\n', '\\nRecruitment, Selection an…\\n', '\\nDirector of Development a…\\n', '\\nAssociate Director of Tra…\\n', '\\nIT Sales and Marketing Sp…\\n', '\\nLoan Officer\\n', '\\nWebmaster & SEO EXPERT\\n', '\\nSoftware Developer\\n', '\\nManagement Trainee\\n', '\\nTrainee Assistant\\n', '\\nJunior Teller\\n', '\\n Branch Managers (Officer …\\n', '\\nRestaurant Manager\\n', '\\nAdmission Officer\\n', '\\nAccountant\\n', '\\nManager (Khalti Travels)\\n', '\\nWork Visa Counsellor\\n', '\\nProgramme Coordinator (PC)\\n', '\\nFront Desk Officer\\n', '\\nCounsellor\\n', '\\nMedical Sales Officer\\n', '\\nReporter-English\\n', '\\nBusiness Development Offi…\\n', '\\nProgramme Analyst, Family…\\n', '\\nSite Reliability Engineer\\n', '\\nReact Developer\\n', '\\nSenior Software Developer…\\n', '\\nSenior Developer\\n', '\\nKey Accounts Manager (Spo…\\n', '\\nProduct Owner\\n', '\\nFinance Manager\\n', '\\nContract Execution and As…\\n', '\\nBusiness Promotion Manager\\n', '\\nSOFTWARE ENGINEER\\n', '\\nWeb Designer\\n', '\\nKey Accounts Manager - To…\\n', '\\nReactJS Developer\\n', '\\nJAVA Developer\\n', '\\nWriter/Editor (Tech, Gami…\\n']\n"
          ]
        }
      ]
    },
    {
      "cell_type": "code",
      "source": [],
      "metadata": {
        "id": "xALqvinU2usa"
      },
      "execution_count": null,
      "outputs": []
    }
  ],
  "metadata": {
    "colab": {
      "provenance": [],
      "authorship_tag": "ABX9TyPlhjQd52R7Qp8sUt1qlMui",
      "include_colab_link": true
    },
    "kernelspec": {
      "display_name": "Python 3",
      "name": "python3"
    },
    "language_info": {
      "name": "python"
    }
  },
  "nbformat": 4,
  "nbformat_minor": 0
}